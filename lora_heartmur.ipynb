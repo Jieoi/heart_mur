{
  "nbformat": 4,
  "nbformat_minor": 0,
  "metadata": {
    "colab": {
      "provenance": [],
      "authorship_tag": "ABX9TyNKJxk+KYUCTjNM5MV4eTGG",
      "include_colab_link": true
    },
    "kernelspec": {
      "name": "python3",
      "display_name": "Python 3"
    },
    "language_info": {
      "name": "python"
    },
    "widgets": {
      "application/vnd.jupyter.widget-state+json": {
        "f84c24ce5d4f4bf895dab121487aa39f": {
          "model_module": "@jupyter-widgets/controls",
          "model_name": "VBoxModel",
          "model_module_version": "1.5.0",
          "state": {
            "_dom_classes": [],
            "_model_module": "@jupyter-widgets/controls",
            "_model_module_version": "1.5.0",
            "_model_name": "VBoxModel",
            "_view_count": null,
            "_view_module": "@jupyter-widgets/controls",
            "_view_module_version": "1.5.0",
            "_view_name": "VBoxView",
            "box_style": "",
            "children": [],
            "layout": "IPY_MODEL_a277740d9f294e9f93a81b3c7b418387"
          }
        },
        "ccec09ab617b4b01b581ef85e2501557": {
          "model_module": "@jupyter-widgets/controls",
          "model_name": "HTMLModel",
          "model_module_version": "1.5.0",
          "state": {
            "_dom_classes": [],
            "_model_module": "@jupyter-widgets/controls",
            "_model_module_version": "1.5.0",
            "_model_name": "HTMLModel",
            "_view_count": null,
            "_view_module": "@jupyter-widgets/controls",
            "_view_module_version": "1.5.0",
            "_view_name": "HTMLView",
            "description": "",
            "description_tooltip": null,
            "layout": "IPY_MODEL_31abd2204f25475bb98877f925ee9835",
            "placeholder": "​",
            "style": "IPY_MODEL_f2e6ff365f344d96977258f74ceb818e",
            "value": "<center> <img\nsrc=https://huggingface.co/front/assets/huggingface_logo-noborder.svg\nalt='Hugging Face'> <br> Copy a token from <a\nhref=\"https://huggingface.co/settings/tokens\" target=\"_blank\">your Hugging Face\ntokens page</a> and paste it below. <br> Immediately click login after copying\nyour token or it might be stored in plain text in this notebook file. </center>"
          }
        },
        "102e7696e9df44b0a88dab4a6e7a7b5d": {
          "model_module": "@jupyter-widgets/controls",
          "model_name": "PasswordModel",
          "model_module_version": "1.5.0",
          "state": {
            "_dom_classes": [],
            "_model_module": "@jupyter-widgets/controls",
            "_model_module_version": "1.5.0",
            "_model_name": "PasswordModel",
            "_view_count": null,
            "_view_module": "@jupyter-widgets/controls",
            "_view_module_version": "1.5.0",
            "_view_name": "PasswordView",
            "continuous_update": true,
            "description": "Token:",
            "description_tooltip": null,
            "disabled": false,
            "layout": "IPY_MODEL_a9e5eb9d83854716be869190bffd1ffc",
            "placeholder": "​",
            "style": "IPY_MODEL_068b0f5e4e874c2fb05230905fa62497",
            "value": ""
          }
        },
        "b5d545032b8743e48e53fe071c85dcf2": {
          "model_module": "@jupyter-widgets/controls",
          "model_name": "CheckboxModel",
          "model_module_version": "1.5.0",
          "state": {
            "_dom_classes": [],
            "_model_module": "@jupyter-widgets/controls",
            "_model_module_version": "1.5.0",
            "_model_name": "CheckboxModel",
            "_view_count": null,
            "_view_module": "@jupyter-widgets/controls",
            "_view_module_version": "1.5.0",
            "_view_name": "CheckboxView",
            "description": "Add token as git credential?",
            "description_tooltip": null,
            "disabled": false,
            "indent": true,
            "layout": "IPY_MODEL_18629e1e934749e1b1066f4ef7afa435",
            "style": "IPY_MODEL_49c0846f436d467db7f9843bfe21c36d",
            "value": true
          }
        },
        "afaf04a934dd4ad5aa0259fe8b5efd1b": {
          "model_module": "@jupyter-widgets/controls",
          "model_name": "ButtonModel",
          "model_module_version": "1.5.0",
          "state": {
            "_dom_classes": [],
            "_model_module": "@jupyter-widgets/controls",
            "_model_module_version": "1.5.0",
            "_model_name": "ButtonModel",
            "_view_count": null,
            "_view_module": "@jupyter-widgets/controls",
            "_view_module_version": "1.5.0",
            "_view_name": "ButtonView",
            "button_style": "",
            "description": "Login",
            "disabled": false,
            "icon": "",
            "layout": "IPY_MODEL_b61b128386234df7b0239782680911c0",
            "style": "IPY_MODEL_d384f254968842809b38783e3aa81c1c",
            "tooltip": ""
          }
        },
        "77ad3c3eed0a474c8df7dd3d8115ee3b": {
          "model_module": "@jupyter-widgets/controls",
          "model_name": "HTMLModel",
          "model_module_version": "1.5.0",
          "state": {
            "_dom_classes": [],
            "_model_module": "@jupyter-widgets/controls",
            "_model_module_version": "1.5.0",
            "_model_name": "HTMLModel",
            "_view_count": null,
            "_view_module": "@jupyter-widgets/controls",
            "_view_module_version": "1.5.0",
            "_view_name": "HTMLView",
            "description": "",
            "description_tooltip": null,
            "layout": "IPY_MODEL_2042d5b2cda449c2a52343e6292c5e20",
            "placeholder": "​",
            "style": "IPY_MODEL_565e9f091ad149debe4e5a496fcf24ee",
            "value": "\n<b>Pro Tip:</b> If you don't already have one, you can create a dedicated\n'notebooks' token with 'write' access, that you can then easily reuse for all\nnotebooks. </center>"
          }
        },
        "a277740d9f294e9f93a81b3c7b418387": {
          "model_module": "@jupyter-widgets/base",
          "model_name": "LayoutModel",
          "model_module_version": "1.2.0",
          "state": {
            "_model_module": "@jupyter-widgets/base",
            "_model_module_version": "1.2.0",
            "_model_name": "LayoutModel",
            "_view_count": null,
            "_view_module": "@jupyter-widgets/base",
            "_view_module_version": "1.2.0",
            "_view_name": "LayoutView",
            "align_content": null,
            "align_items": "center",
            "align_self": null,
            "border": null,
            "bottom": null,
            "display": "flex",
            "flex": null,
            "flex_flow": "column",
            "grid_area": null,
            "grid_auto_columns": null,
            "grid_auto_flow": null,
            "grid_auto_rows": null,
            "grid_column": null,
            "grid_gap": null,
            "grid_row": null,
            "grid_template_areas": null,
            "grid_template_columns": null,
            "grid_template_rows": null,
            "height": null,
            "justify_content": null,
            "justify_items": null,
            "left": null,
            "margin": null,
            "max_height": null,
            "max_width": null,
            "min_height": null,
            "min_width": null,
            "object_fit": null,
            "object_position": null,
            "order": null,
            "overflow": null,
            "overflow_x": null,
            "overflow_y": null,
            "padding": null,
            "right": null,
            "top": null,
            "visibility": null,
            "width": "50%"
          }
        },
        "31abd2204f25475bb98877f925ee9835": {
          "model_module": "@jupyter-widgets/base",
          "model_name": "LayoutModel",
          "model_module_version": "1.2.0",
          "state": {
            "_model_module": "@jupyter-widgets/base",
            "_model_module_version": "1.2.0",
            "_model_name": "LayoutModel",
            "_view_count": null,
            "_view_module": "@jupyter-widgets/base",
            "_view_module_version": "1.2.0",
            "_view_name": "LayoutView",
            "align_content": null,
            "align_items": null,
            "align_self": null,
            "border": null,
            "bottom": null,
            "display": null,
            "flex": null,
            "flex_flow": null,
            "grid_area": null,
            "grid_auto_columns": null,
            "grid_auto_flow": null,
            "grid_auto_rows": null,
            "grid_column": null,
            "grid_gap": null,
            "grid_row": null,
            "grid_template_areas": null,
            "grid_template_columns": null,
            "grid_template_rows": null,
            "height": null,
            "justify_content": null,
            "justify_items": null,
            "left": null,
            "margin": null,
            "max_height": null,
            "max_width": null,
            "min_height": null,
            "min_width": null,
            "object_fit": null,
            "object_position": null,
            "order": null,
            "overflow": null,
            "overflow_x": null,
            "overflow_y": null,
            "padding": null,
            "right": null,
            "top": null,
            "visibility": null,
            "width": null
          }
        },
        "f2e6ff365f344d96977258f74ceb818e": {
          "model_module": "@jupyter-widgets/controls",
          "model_name": "DescriptionStyleModel",
          "model_module_version": "1.5.0",
          "state": {
            "_model_module": "@jupyter-widgets/controls",
            "_model_module_version": "1.5.0",
            "_model_name": "DescriptionStyleModel",
            "_view_count": null,
            "_view_module": "@jupyter-widgets/base",
            "_view_module_version": "1.2.0",
            "_view_name": "StyleView",
            "description_width": ""
          }
        },
        "a9e5eb9d83854716be869190bffd1ffc": {
          "model_module": "@jupyter-widgets/base",
          "model_name": "LayoutModel",
          "model_module_version": "1.2.0",
          "state": {
            "_model_module": "@jupyter-widgets/base",
            "_model_module_version": "1.2.0",
            "_model_name": "LayoutModel",
            "_view_count": null,
            "_view_module": "@jupyter-widgets/base",
            "_view_module_version": "1.2.0",
            "_view_name": "LayoutView",
            "align_content": null,
            "align_items": null,
            "align_self": null,
            "border": null,
            "bottom": null,
            "display": null,
            "flex": null,
            "flex_flow": null,
            "grid_area": null,
            "grid_auto_columns": null,
            "grid_auto_flow": null,
            "grid_auto_rows": null,
            "grid_column": null,
            "grid_gap": null,
            "grid_row": null,
            "grid_template_areas": null,
            "grid_template_columns": null,
            "grid_template_rows": null,
            "height": null,
            "justify_content": null,
            "justify_items": null,
            "left": null,
            "margin": null,
            "max_height": null,
            "max_width": null,
            "min_height": null,
            "min_width": null,
            "object_fit": null,
            "object_position": null,
            "order": null,
            "overflow": null,
            "overflow_x": null,
            "overflow_y": null,
            "padding": null,
            "right": null,
            "top": null,
            "visibility": null,
            "width": null
          }
        },
        "068b0f5e4e874c2fb05230905fa62497": {
          "model_module": "@jupyter-widgets/controls",
          "model_name": "DescriptionStyleModel",
          "model_module_version": "1.5.0",
          "state": {
            "_model_module": "@jupyter-widgets/controls",
            "_model_module_version": "1.5.0",
            "_model_name": "DescriptionStyleModel",
            "_view_count": null,
            "_view_module": "@jupyter-widgets/base",
            "_view_module_version": "1.2.0",
            "_view_name": "StyleView",
            "description_width": ""
          }
        },
        "18629e1e934749e1b1066f4ef7afa435": {
          "model_module": "@jupyter-widgets/base",
          "model_name": "LayoutModel",
          "model_module_version": "1.2.0",
          "state": {
            "_model_module": "@jupyter-widgets/base",
            "_model_module_version": "1.2.0",
            "_model_name": "LayoutModel",
            "_view_count": null,
            "_view_module": "@jupyter-widgets/base",
            "_view_module_version": "1.2.0",
            "_view_name": "LayoutView",
            "align_content": null,
            "align_items": null,
            "align_self": null,
            "border": null,
            "bottom": null,
            "display": null,
            "flex": null,
            "flex_flow": null,
            "grid_area": null,
            "grid_auto_columns": null,
            "grid_auto_flow": null,
            "grid_auto_rows": null,
            "grid_column": null,
            "grid_gap": null,
            "grid_row": null,
            "grid_template_areas": null,
            "grid_template_columns": null,
            "grid_template_rows": null,
            "height": null,
            "justify_content": null,
            "justify_items": null,
            "left": null,
            "margin": null,
            "max_height": null,
            "max_width": null,
            "min_height": null,
            "min_width": null,
            "object_fit": null,
            "object_position": null,
            "order": null,
            "overflow": null,
            "overflow_x": null,
            "overflow_y": null,
            "padding": null,
            "right": null,
            "top": null,
            "visibility": null,
            "width": null
          }
        },
        "49c0846f436d467db7f9843bfe21c36d": {
          "model_module": "@jupyter-widgets/controls",
          "model_name": "DescriptionStyleModel",
          "model_module_version": "1.5.0",
          "state": {
            "_model_module": "@jupyter-widgets/controls",
            "_model_module_version": "1.5.0",
            "_model_name": "DescriptionStyleModel",
            "_view_count": null,
            "_view_module": "@jupyter-widgets/base",
            "_view_module_version": "1.2.0",
            "_view_name": "StyleView",
            "description_width": ""
          }
        },
        "b61b128386234df7b0239782680911c0": {
          "model_module": "@jupyter-widgets/base",
          "model_name": "LayoutModel",
          "model_module_version": "1.2.0",
          "state": {
            "_model_module": "@jupyter-widgets/base",
            "_model_module_version": "1.2.0",
            "_model_name": "LayoutModel",
            "_view_count": null,
            "_view_module": "@jupyter-widgets/base",
            "_view_module_version": "1.2.0",
            "_view_name": "LayoutView",
            "align_content": null,
            "align_items": null,
            "align_self": null,
            "border": null,
            "bottom": null,
            "display": null,
            "flex": null,
            "flex_flow": null,
            "grid_area": null,
            "grid_auto_columns": null,
            "grid_auto_flow": null,
            "grid_auto_rows": null,
            "grid_column": null,
            "grid_gap": null,
            "grid_row": null,
            "grid_template_areas": null,
            "grid_template_columns": null,
            "grid_template_rows": null,
            "height": null,
            "justify_content": null,
            "justify_items": null,
            "left": null,
            "margin": null,
            "max_height": null,
            "max_width": null,
            "min_height": null,
            "min_width": null,
            "object_fit": null,
            "object_position": null,
            "order": null,
            "overflow": null,
            "overflow_x": null,
            "overflow_y": null,
            "padding": null,
            "right": null,
            "top": null,
            "visibility": null,
            "width": null
          }
        },
        "d384f254968842809b38783e3aa81c1c": {
          "model_module": "@jupyter-widgets/controls",
          "model_name": "ButtonStyleModel",
          "model_module_version": "1.5.0",
          "state": {
            "_model_module": "@jupyter-widgets/controls",
            "_model_module_version": "1.5.0",
            "_model_name": "ButtonStyleModel",
            "_view_count": null,
            "_view_module": "@jupyter-widgets/base",
            "_view_module_version": "1.2.0",
            "_view_name": "StyleView",
            "button_color": null,
            "font_weight": ""
          }
        },
        "2042d5b2cda449c2a52343e6292c5e20": {
          "model_module": "@jupyter-widgets/base",
          "model_name": "LayoutModel",
          "model_module_version": "1.2.0",
          "state": {
            "_model_module": "@jupyter-widgets/base",
            "_model_module_version": "1.2.0",
            "_model_name": "LayoutModel",
            "_view_count": null,
            "_view_module": "@jupyter-widgets/base",
            "_view_module_version": "1.2.0",
            "_view_name": "LayoutView",
            "align_content": null,
            "align_items": null,
            "align_self": null,
            "border": null,
            "bottom": null,
            "display": null,
            "flex": null,
            "flex_flow": null,
            "grid_area": null,
            "grid_auto_columns": null,
            "grid_auto_flow": null,
            "grid_auto_rows": null,
            "grid_column": null,
            "grid_gap": null,
            "grid_row": null,
            "grid_template_areas": null,
            "grid_template_columns": null,
            "grid_template_rows": null,
            "height": null,
            "justify_content": null,
            "justify_items": null,
            "left": null,
            "margin": null,
            "max_height": null,
            "max_width": null,
            "min_height": null,
            "min_width": null,
            "object_fit": null,
            "object_position": null,
            "order": null,
            "overflow": null,
            "overflow_x": null,
            "overflow_y": null,
            "padding": null,
            "right": null,
            "top": null,
            "visibility": null,
            "width": null
          }
        },
        "565e9f091ad149debe4e5a496fcf24ee": {
          "model_module": "@jupyter-widgets/controls",
          "model_name": "DescriptionStyleModel",
          "model_module_version": "1.5.0",
          "state": {
            "_model_module": "@jupyter-widgets/controls",
            "_model_module_version": "1.5.0",
            "_model_name": "DescriptionStyleModel",
            "_view_count": null,
            "_view_module": "@jupyter-widgets/base",
            "_view_module_version": "1.2.0",
            "_view_name": "StyleView",
            "description_width": ""
          }
        },
        "5c27c9b16a7f489ba918f9e3dbec46e2": {
          "model_module": "@jupyter-widgets/controls",
          "model_name": "LabelModel",
          "model_module_version": "1.5.0",
          "state": {
            "_dom_classes": [],
            "_model_module": "@jupyter-widgets/controls",
            "_model_module_version": "1.5.0",
            "_model_name": "LabelModel",
            "_view_count": null,
            "_view_module": "@jupyter-widgets/controls",
            "_view_module_version": "1.5.0",
            "_view_name": "LabelView",
            "description": "",
            "description_tooltip": null,
            "layout": "IPY_MODEL_e9ef61f4c10b498e8e073f145244b1e9",
            "placeholder": "​",
            "style": "IPY_MODEL_497fed315a6c46f383c4b2202652f4c7",
            "value": "Connecting..."
          }
        },
        "e9ef61f4c10b498e8e073f145244b1e9": {
          "model_module": "@jupyter-widgets/base",
          "model_name": "LayoutModel",
          "model_module_version": "1.2.0",
          "state": {
            "_model_module": "@jupyter-widgets/base",
            "_model_module_version": "1.2.0",
            "_model_name": "LayoutModel",
            "_view_count": null,
            "_view_module": "@jupyter-widgets/base",
            "_view_module_version": "1.2.0",
            "_view_name": "LayoutView",
            "align_content": null,
            "align_items": null,
            "align_self": null,
            "border": null,
            "bottom": null,
            "display": null,
            "flex": null,
            "flex_flow": null,
            "grid_area": null,
            "grid_auto_columns": null,
            "grid_auto_flow": null,
            "grid_auto_rows": null,
            "grid_column": null,
            "grid_gap": null,
            "grid_row": null,
            "grid_template_areas": null,
            "grid_template_columns": null,
            "grid_template_rows": null,
            "height": null,
            "justify_content": null,
            "justify_items": null,
            "left": null,
            "margin": null,
            "max_height": null,
            "max_width": null,
            "min_height": null,
            "min_width": null,
            "object_fit": null,
            "object_position": null,
            "order": null,
            "overflow": null,
            "overflow_x": null,
            "overflow_y": null,
            "padding": null,
            "right": null,
            "top": null,
            "visibility": null,
            "width": null
          }
        },
        "497fed315a6c46f383c4b2202652f4c7": {
          "model_module": "@jupyter-widgets/controls",
          "model_name": "DescriptionStyleModel",
          "model_module_version": "1.5.0",
          "state": {
            "_model_module": "@jupyter-widgets/controls",
            "_model_module_version": "1.5.0",
            "_model_name": "DescriptionStyleModel",
            "_view_count": null,
            "_view_module": "@jupyter-widgets/base",
            "_view_module_version": "1.2.0",
            "_view_name": "StyleView",
            "description_width": ""
          }
        },
        "b91d62f90e9a4befb646c9027869daf6": {
          "model_module": "@jupyter-widgets/controls",
          "model_name": "HBoxModel",
          "model_module_version": "1.5.0",
          "state": {
            "_dom_classes": [],
            "_model_module": "@jupyter-widgets/controls",
            "_model_module_version": "1.5.0",
            "_model_name": "HBoxModel",
            "_view_count": null,
            "_view_module": "@jupyter-widgets/controls",
            "_view_module_version": "1.5.0",
            "_view_name": "HBoxView",
            "box_style": "",
            "children": [
              "IPY_MODEL_565132d984ed41c6bf57d3ab59a9701b",
              "IPY_MODEL_7a1a667eb4ff47c39d2f6e08b8c59a54",
              "IPY_MODEL_29881aa07d9440f99b7628b62f974413"
            ],
            "layout": "IPY_MODEL_d7d2e333b8144187bb4d83de51a8d455"
          }
        },
        "565132d984ed41c6bf57d3ab59a9701b": {
          "model_module": "@jupyter-widgets/controls",
          "model_name": "HTMLModel",
          "model_module_version": "1.5.0",
          "state": {
            "_dom_classes": [],
            "_model_module": "@jupyter-widgets/controls",
            "_model_module_version": "1.5.0",
            "_model_name": "HTMLModel",
            "_view_count": null,
            "_view_module": "@jupyter-widgets/controls",
            "_view_module_version": "1.5.0",
            "_view_name": "HTMLView",
            "description": "",
            "description_tooltip": null,
            "layout": "IPY_MODEL_8a6ba5b2dfdd4f41919958d6287b9c9f",
            "placeholder": "​",
            "style": "IPY_MODEL_c78b2269cd41423b8d4372e443ee1f54",
            "value": "Loading pipeline components...: 100%"
          }
        },
        "7a1a667eb4ff47c39d2f6e08b8c59a54": {
          "model_module": "@jupyter-widgets/controls",
          "model_name": "FloatProgressModel",
          "model_module_version": "1.5.0",
          "state": {
            "_dom_classes": [],
            "_model_module": "@jupyter-widgets/controls",
            "_model_module_version": "1.5.0",
            "_model_name": "FloatProgressModel",
            "_view_count": null,
            "_view_module": "@jupyter-widgets/controls",
            "_view_module_version": "1.5.0",
            "_view_name": "ProgressView",
            "bar_style": "success",
            "description": "",
            "description_tooltip": null,
            "layout": "IPY_MODEL_f79d29e7d6db43468edc4b84072668f3",
            "max": 6,
            "min": 0,
            "orientation": "horizontal",
            "style": "IPY_MODEL_2b3fa2b513a74782befaffe2f018882d",
            "value": 6
          }
        },
        "29881aa07d9440f99b7628b62f974413": {
          "model_module": "@jupyter-widgets/controls",
          "model_name": "HTMLModel",
          "model_module_version": "1.5.0",
          "state": {
            "_dom_classes": [],
            "_model_module": "@jupyter-widgets/controls",
            "_model_module_version": "1.5.0",
            "_model_name": "HTMLModel",
            "_view_count": null,
            "_view_module": "@jupyter-widgets/controls",
            "_view_module_version": "1.5.0",
            "_view_name": "HTMLView",
            "description": "",
            "description_tooltip": null,
            "layout": "IPY_MODEL_a5774e8d791447968d7e4e62bd1c67d0",
            "placeholder": "​",
            "style": "IPY_MODEL_230feec9cd2548f4a97eea59c356e4f5",
            "value": " 6/6 [00:22&lt;00:00,  2.26s/it]"
          }
        },
        "d7d2e333b8144187bb4d83de51a8d455": {
          "model_module": "@jupyter-widgets/base",
          "model_name": "LayoutModel",
          "model_module_version": "1.2.0",
          "state": {
            "_model_module": "@jupyter-widgets/base",
            "_model_module_version": "1.2.0",
            "_model_name": "LayoutModel",
            "_view_count": null,
            "_view_module": "@jupyter-widgets/base",
            "_view_module_version": "1.2.0",
            "_view_name": "LayoutView",
            "align_content": null,
            "align_items": null,
            "align_self": null,
            "border": null,
            "bottom": null,
            "display": null,
            "flex": null,
            "flex_flow": null,
            "grid_area": null,
            "grid_auto_columns": null,
            "grid_auto_flow": null,
            "grid_auto_rows": null,
            "grid_column": null,
            "grid_gap": null,
            "grid_row": null,
            "grid_template_areas": null,
            "grid_template_columns": null,
            "grid_template_rows": null,
            "height": null,
            "justify_content": null,
            "justify_items": null,
            "left": null,
            "margin": null,
            "max_height": null,
            "max_width": null,
            "min_height": null,
            "min_width": null,
            "object_fit": null,
            "object_position": null,
            "order": null,
            "overflow": null,
            "overflow_x": null,
            "overflow_y": null,
            "padding": null,
            "right": null,
            "top": null,
            "visibility": null,
            "width": null
          }
        },
        "8a6ba5b2dfdd4f41919958d6287b9c9f": {
          "model_module": "@jupyter-widgets/base",
          "model_name": "LayoutModel",
          "model_module_version": "1.2.0",
          "state": {
            "_model_module": "@jupyter-widgets/base",
            "_model_module_version": "1.2.0",
            "_model_name": "LayoutModel",
            "_view_count": null,
            "_view_module": "@jupyter-widgets/base",
            "_view_module_version": "1.2.0",
            "_view_name": "LayoutView",
            "align_content": null,
            "align_items": null,
            "align_self": null,
            "border": null,
            "bottom": null,
            "display": null,
            "flex": null,
            "flex_flow": null,
            "grid_area": null,
            "grid_auto_columns": null,
            "grid_auto_flow": null,
            "grid_auto_rows": null,
            "grid_column": null,
            "grid_gap": null,
            "grid_row": null,
            "grid_template_areas": null,
            "grid_template_columns": null,
            "grid_template_rows": null,
            "height": null,
            "justify_content": null,
            "justify_items": null,
            "left": null,
            "margin": null,
            "max_height": null,
            "max_width": null,
            "min_height": null,
            "min_width": null,
            "object_fit": null,
            "object_position": null,
            "order": null,
            "overflow": null,
            "overflow_x": null,
            "overflow_y": null,
            "padding": null,
            "right": null,
            "top": null,
            "visibility": null,
            "width": null
          }
        },
        "c78b2269cd41423b8d4372e443ee1f54": {
          "model_module": "@jupyter-widgets/controls",
          "model_name": "DescriptionStyleModel",
          "model_module_version": "1.5.0",
          "state": {
            "_model_module": "@jupyter-widgets/controls",
            "_model_module_version": "1.5.0",
            "_model_name": "DescriptionStyleModel",
            "_view_count": null,
            "_view_module": "@jupyter-widgets/base",
            "_view_module_version": "1.2.0",
            "_view_name": "StyleView",
            "description_width": ""
          }
        },
        "f79d29e7d6db43468edc4b84072668f3": {
          "model_module": "@jupyter-widgets/base",
          "model_name": "LayoutModel",
          "model_module_version": "1.2.0",
          "state": {
            "_model_module": "@jupyter-widgets/base",
            "_model_module_version": "1.2.0",
            "_model_name": "LayoutModel",
            "_view_count": null,
            "_view_module": "@jupyter-widgets/base",
            "_view_module_version": "1.2.0",
            "_view_name": "LayoutView",
            "align_content": null,
            "align_items": null,
            "align_self": null,
            "border": null,
            "bottom": null,
            "display": null,
            "flex": null,
            "flex_flow": null,
            "grid_area": null,
            "grid_auto_columns": null,
            "grid_auto_flow": null,
            "grid_auto_rows": null,
            "grid_column": null,
            "grid_gap": null,
            "grid_row": null,
            "grid_template_areas": null,
            "grid_template_columns": null,
            "grid_template_rows": null,
            "height": null,
            "justify_content": null,
            "justify_items": null,
            "left": null,
            "margin": null,
            "max_height": null,
            "max_width": null,
            "min_height": null,
            "min_width": null,
            "object_fit": null,
            "object_position": null,
            "order": null,
            "overflow": null,
            "overflow_x": null,
            "overflow_y": null,
            "padding": null,
            "right": null,
            "top": null,
            "visibility": null,
            "width": null
          }
        },
        "2b3fa2b513a74782befaffe2f018882d": {
          "model_module": "@jupyter-widgets/controls",
          "model_name": "ProgressStyleModel",
          "model_module_version": "1.5.0",
          "state": {
            "_model_module": "@jupyter-widgets/controls",
            "_model_module_version": "1.5.0",
            "_model_name": "ProgressStyleModel",
            "_view_count": null,
            "_view_module": "@jupyter-widgets/base",
            "_view_module_version": "1.2.0",
            "_view_name": "StyleView",
            "bar_color": null,
            "description_width": ""
          }
        },
        "a5774e8d791447968d7e4e62bd1c67d0": {
          "model_module": "@jupyter-widgets/base",
          "model_name": "LayoutModel",
          "model_module_version": "1.2.0",
          "state": {
            "_model_module": "@jupyter-widgets/base",
            "_model_module_version": "1.2.0",
            "_model_name": "LayoutModel",
            "_view_count": null,
            "_view_module": "@jupyter-widgets/base",
            "_view_module_version": "1.2.0",
            "_view_name": "LayoutView",
            "align_content": null,
            "align_items": null,
            "align_self": null,
            "border": null,
            "bottom": null,
            "display": null,
            "flex": null,
            "flex_flow": null,
            "grid_area": null,
            "grid_auto_columns": null,
            "grid_auto_flow": null,
            "grid_auto_rows": null,
            "grid_column": null,
            "grid_gap": null,
            "grid_row": null,
            "grid_template_areas": null,
            "grid_template_columns": null,
            "grid_template_rows": null,
            "height": null,
            "justify_content": null,
            "justify_items": null,
            "left": null,
            "margin": null,
            "max_height": null,
            "max_width": null,
            "min_height": null,
            "min_width": null,
            "object_fit": null,
            "object_position": null,
            "order": null,
            "overflow": null,
            "overflow_x": null,
            "overflow_y": null,
            "padding": null,
            "right": null,
            "top": null,
            "visibility": null,
            "width": null
          }
        },
        "230feec9cd2548f4a97eea59c356e4f5": {
          "model_module": "@jupyter-widgets/controls",
          "model_name": "DescriptionStyleModel",
          "model_module_version": "1.5.0",
          "state": {
            "_model_module": "@jupyter-widgets/controls",
            "_model_module_version": "1.5.0",
            "_model_name": "DescriptionStyleModel",
            "_view_count": null,
            "_view_module": "@jupyter-widgets/base",
            "_view_module_version": "1.2.0",
            "_view_name": "StyleView",
            "description_width": ""
          }
        }
      }
    }
  },
  "cells": [
    {
      "cell_type": "markdown",
      "metadata": {
        "id": "view-in-github",
        "colab_type": "text"
      },
      "source": [
        "<a href=\"https://colab.research.google.com/github/Jieoi/heart_mur/blob/main/lora_heartmur.ipynb\" target=\"_parent\"><img src=\"https://colab.research.google.com/assets/colab-badge.svg\" alt=\"Open In Colab\"/></a>"
      ]
    },
    {
      "cell_type": "code",
      "execution_count": 11,
      "metadata": {
        "colab": {
          "base_uri": "https://localhost:8080/"
        },
        "id": "hXY0axO-TRCy",
        "outputId": "821993a3-1480-4cd6-a3bb-08a9f58e449b"
      },
      "outputs": [
        {
          "output_type": "stream",
          "name": "stdout",
          "text": [
            "Drive already mounted at /content/drive; to attempt to forcibly remount, call drive.mount(\"/content/drive\", force_remount=True).\n"
          ]
        }
      ],
      "source": [
        "from google.colab import drive\n",
        "drive.mount('/content/drive')"
      ]
    },
    {
      "cell_type": "code",
      "source": [
        "import os, io, json\n",
        "\n",
        "def clean_notebook(path):\n",
        "    path = os.path.abspath(path)\n",
        "    nb = json.load(io.open(path, \"r\", encoding=\"utf-8\"))\n",
        "    if \"metadata\" in nb and \"widgets\" in nb[\"metadata\"]:\n",
        "        del nb[\"metadata\"][\"widgets\"]\n",
        "        json.dump(nb, io.open(path, \"w\", encoding=\"utf-8\"), ensure_ascii=False, indent=2)\n",
        "        print(\"Cleaned:\", path)\n",
        "    else:\n",
        "        print(\"No widgets metadata found:\", path)\n",
        "\n",
        "clean_notebook(\"/content/drive/MyDrive/Colab Notebooks/lora_heartmur.ipynb\")"
      ],
      "metadata": {
        "colab": {
          "base_uri": "https://localhost:8080/"
        },
        "id": "Wz4c6KA59lrR",
        "outputId": "f7fe2bff-11a7-41cb-e990-6e3c416a5a49"
      },
      "execution_count": 12,
      "outputs": [
        {
          "output_type": "stream",
          "name": "stdout",
          "text": [
            "Cleaned: /content/drive/MyDrive/Colab Notebooks/lora_heartmur.ipynb\n"
          ]
        }
      ]
    },
    {
      "cell_type": "code",
      "source": [
        "# Ensure GPU is enabled: Runtime → Change runtime type → GPU\n",
        "!pip -q install --upgrade pip setuptools wheel packaging\n",
        "\n",
        "# Match Colab CUDA (12.1)\n",
        "!pip -q install --index-url https://download.pytorch.org/whl/cu121 \\\n",
        "  torch==2.5.1 torchvision==0.20.1 torchaudio==2.5.1\n",
        "\n",
        "# Core libraries\n",
        "!pip -q install diffusers>=0.31.0 transformers peft accelerate \\\n",
        "  librosa soundfile torchmetrics datasets einops\n"
      ],
      "metadata": {
        "colab": {
          "base_uri": "https://localhost:8080/"
        },
        "id": "PSThWBscG4RF",
        "outputId": "41203086-dc20-4971-cad7-da1840eb5b47"
      },
      "execution_count": null,
      "outputs": [
        {
          "output_type": "stream",
          "name": "stdout",
          "text": [
            "\u001b[?25l   \u001b[90m━━━━━━━━━━━━━━━━━━━━━━━━━━━━━━━━━━━━━━━━\u001b[0m \u001b[32m0.0/1.8 MB\u001b[0m \u001b[31m?\u001b[0m eta \u001b[36m-:--:--\u001b[0m\r\u001b[2K   \u001b[91m━━━━━━━━━━━━━━━━━━\u001b[0m\u001b[90m╺\u001b[0m\u001b[90m━━━━━━━━━━━━━━━━━━━━━\u001b[0m \u001b[32m0.8/1.8 MB\u001b[0m \u001b[31m23.8 MB/s\u001b[0m eta \u001b[36m0:00:01\u001b[0m\r\u001b[2K   \u001b[90m━━━━━━━━━━━━━━━━━━━━━━━━━━━━━━━━━━━━━━━━\u001b[0m \u001b[32m1.8/1.8 MB\u001b[0m \u001b[31m27.8 MB/s\u001b[0m eta \u001b[36m0:00:00\u001b[0m\n",
            "\u001b[?25h\u001b[?25l   \u001b[90m━━━━━━━━━━━━━━━━━━━━━━━━━━━━━━━━━━━━━━━━\u001b[0m \u001b[32m0.0/1.2 MB\u001b[0m \u001b[31m?\u001b[0m eta \u001b[36m-:--:--\u001b[0m\r\u001b[2K   \u001b[90m━━━━━━━━━━━━━━━━━━━━━━━━━━━━━━━━━━━━━━━━\u001b[0m \u001b[32m1.2/1.2 MB\u001b[0m \u001b[31m41.4 MB/s\u001b[0m eta \u001b[36m0:00:00\u001b[0m\n",
            "\u001b[?25h\u001b[31mERROR: pip's dependency resolver does not currently take into account all the packages that are installed. This behaviour is the source of the following dependency conflicts.\n",
            "ipython 7.34.0 requires jedi>=0.16, which is not installed.\u001b[0m\u001b[31m\n",
            "\u001b[0m"
          ]
        }
      ]
    },
    {
      "cell_type": "code",
      "source": [
        "!pip -q install torchsde # dependency for CosineDPMSolverMultistepScheduler"
      ],
      "metadata": {
        "id": "ac7As7wqLFD8"
      },
      "execution_count": null,
      "outputs": []
    },
    {
      "cell_type": "code",
      "source": [
        "import os, glob, pandas as pd\n",
        "from pathlib import Path\n",
        "\n",
        "DATA_ROOT   = \"/content/drive/MyDrive/datasets/physionet\"\n",
        "CIRCOR_VER  = \"1.0.3\"\n",
        "CIRCOR_ROOT = f\"{DATA_ROOT}/physionet.org/files/circor-heart-sound/{CIRCOR_VER}\"\n",
        "\n",
        "# load the latest split directory produced previously\n",
        "SPLIT_DIRS = sorted(glob.glob(f\"{CIRCOR_ROOT}/splits/patient_splits_*\"))\n",
        "assert SPLIT_DIRS, \"No split directories found under CIRCOR_ROOT/splits. Create patient-level splits first.\"\n",
        "SPLIT_DIR = SPLIT_DIRS[-1]\n",
        "print(\"Using split dir:\", SPLIT_DIR)"
      ],
      "metadata": {
        "id": "ydgM-ymjVIHu",
        "colab": {
          "base_uri": "https://localhost:8080/"
        },
        "outputId": "c9090018-f907-4f4d-9503-f268613d2b98"
      },
      "execution_count": null,
      "outputs": [
        {
          "output_type": "stream",
          "name": "stdout",
          "text": [
            "Using split dir: /content/drive/MyDrive/datasets/physionet/physionet.org/files/circor-heart-sound/1.0.3/splits/patient_splits_20250926_084757\n"
          ]
        }
      ]
    },
    {
      "cell_type": "code",
      "source": [
        "# checking\n",
        "train_csv = os.path.join(SPLIT_DIR, \"train_manifest.csv\")\n",
        "val_csv   = os.path.join(SPLIT_DIR, \"val_manifest.csv\")\n",
        "test_csv  = os.path.join(SPLIT_DIR, \"test_manifest.csv\")\n",
        "for p in (train_csv, val_csv, test_csv):\n",
        "    assert os.path.exists(p), f\"Missing manifest: {p}\""
      ],
      "metadata": {
        "id": "Nqw-8pMIVJRP"
      },
      "execution_count": null,
      "outputs": []
    },
    {
      "cell_type": "code",
      "source": [
        "train_df = pd.read_csv(train_csv)\n",
        "val_df   = pd.read_csv(val_csv)\n",
        "\n",
        "print(\"Train shape:\", train_df.shape, \"| Val shape:\", val_df.shape)\n",
        "print(\"Train outcome counts:\\n\", train_df['outcome'].value_counts())\n",
        "print(\"Val outcome counts:\\n\",   val_df['outcome'].value_counts())\n"
      ],
      "metadata": {
        "colab": {
          "base_uri": "https://localhost:8080/"
        },
        "id": "fR5xu00WdckD",
        "outputId": "8a0756a3-1a73-4329-c960-91dc5624f442"
      },
      "execution_count": null,
      "outputs": [
        {
          "output_type": "stream",
          "name": "stdout",
          "text": [
            "Train shape: (2220, 5) | Val shape: (469, 5)\n",
            "Train outcome counts:\n",
            " outcome\n",
            "Normal      1145\n",
            "Abnormal    1075\n",
            "Name: count, dtype: int64\n",
            "Val outcome counts:\n",
            " outcome\n",
            "Normal      250\n",
            "Abnormal    219\n",
            "Name: count, dtype: int64\n"
          ]
        }
      ]
    },
    {
      "cell_type": "code",
      "source": [
        "import torch\n",
        "print(\"Torch:\", torch.__version__, \"| CUDA:\", torch.version.cuda, \"| GPUs:\", torch.cuda.device_count())\n",
        "if torch.cuda.is_available():\n",
        "    print(\"CUDA device:\", torch.cuda.get_device_name(0))\n",
        "else:\n",
        "    print(\"WARNING: No GPU available. Enable GPU in Runtime.\")"
      ],
      "metadata": {
        "colab": {
          "base_uri": "https://localhost:8080/"
        },
        "id": "8SB3XVWHHghU",
        "outputId": "5ccddea0-6624-4c7b-8c54-6f966e7f840b"
      },
      "execution_count": null,
      "outputs": [
        {
          "output_type": "stream",
          "name": "stdout",
          "text": [
            "Torch: 2.5.1+cu121 | CUDA: 12.1 | GPUs: 1\n",
            "CUDA device: Tesla T4\n"
          ]
        }
      ]
    },
    {
      "cell_type": "code",
      "source": [
        "from diffusers import StableAudioPipeline\n",
        "import torch\n",
        "\n",
        "MODEL_REPO = \"stabilityai/stable-audio-open-1.0\""
      ],
      "metadata": {
        "id": "3OM_q1iZVuWz"
      },
      "execution_count": null,
      "outputs": []
    },
    {
      "cell_type": "code",
      "source": [
        "from huggingface_hub import login, whoami\n",
        "login()\n",
        "print(whoami())"
      ],
      "metadata": {
        "colab": {
          "base_uri": "https://localhost:8080/",
          "height": 158,
          "referenced_widgets": [
            "f84c24ce5d4f4bf895dab121487aa39f",
            "ccec09ab617b4b01b581ef85e2501557",
            "102e7696e9df44b0a88dab4a6e7a7b5d",
            "b5d545032b8743e48e53fe071c85dcf2",
            "afaf04a934dd4ad5aa0259fe8b5efd1b",
            "77ad3c3eed0a474c8df7dd3d8115ee3b",
            "a277740d9f294e9f93a81b3c7b418387",
            "31abd2204f25475bb98877f925ee9835",
            "f2e6ff365f344d96977258f74ceb818e",
            "a9e5eb9d83854716be869190bffd1ffc",
            "068b0f5e4e874c2fb05230905fa62497",
            "18629e1e934749e1b1066f4ef7afa435",
            "49c0846f436d467db7f9843bfe21c36d",
            "b61b128386234df7b0239782680911c0",
            "d384f254968842809b38783e3aa81c1c",
            "2042d5b2cda449c2a52343e6292c5e20",
            "565e9f091ad149debe4e5a496fcf24ee",
            "5c27c9b16a7f489ba918f9e3dbec46e2",
            "e9ef61f4c10b498e8e073f145244b1e9",
            "497fed315a6c46f383c4b2202652f4c7"
          ]
        },
        "id": "sxlP50RTJlmH",
        "outputId": "f75eb80f-7d93-4def-d39a-aacf60f3c7cb"
      },
      "execution_count": null,
      "outputs": [
        {
          "output_type": "display_data",
          "data": {
            "text/plain": [
              "VBox(children=(HTML(value='<center> <img\\nsrc=https://huggingface.co/front/assets/huggingface_logo-noborder.sv…"
            ],
            "application/vnd.jupyter.widget-view+json": {
              "version_major": 2,
              "version_minor": 0,
              "model_id": "f84c24ce5d4f4bf895dab121487aa39f"
            }
          },
          "metadata": {}
        },
        {
          "output_type": "stream",
          "name": "stdout",
          "text": [
            "{'type': 'user', 'id': '675d79f5f2b7722d135416cb', 'name': 'jiejiexin', 'fullname': 'Jie Xin', 'email': 'xinnnjie@gmail.com', 'emailVerified': True, 'canPay': False, 'periodEnd': None, 'isPro': False, 'avatarUrl': 'https://cdn-avatars.huggingface.co/v1/production/uploads/no-auth/WZwtoT_XqasHbqaqCqyTE.png', 'orgs': [], 'auth': {'type': 'access_token', 'accessToken': {'displayName': 'heart_lore', 'role': 'read', 'createdAt': '2025-09-26T13:10:38.847Z'}}}\n"
          ]
        },
        {
          "output_type": "stream",
          "name": "stderr",
          "text": [
            "/usr/local/lib/python3.12/dist-packages/huggingface_hub/utils/_auth.py:94: UserWarning: \n",
            "The secret `HF_TOKEN` does not exist in your Colab secrets.\n",
            "To authenticate with the Hugging Face Hub, create a token in your settings tab (https://huggingface.co/settings/tokens), set it as secret in your Google Colab and restart your session.\n",
            "You will be able to reuse this secret in all of your notebooks.\n",
            "Please note that authentication is recommended but still optional to access public models or datasets.\n",
            "  warnings.warn(\n"
          ]
        }
      ]
    },
    {
      "cell_type": "code",
      "source": [
        "pipe = StableAudioPipeline.from_pretrained(\n",
        "    MODEL_REPO, torch_dtype=torch.float16\n",
        ").to(\"cuda\")"
      ],
      "metadata": {
        "colab": {
          "base_uri": "https://localhost:8080/",
          "height": 121,
          "referenced_widgets": [
            "b91d62f90e9a4befb646c9027869daf6",
            "565132d984ed41c6bf57d3ab59a9701b",
            "7a1a667eb4ff47c39d2f6e08b8c59a54",
            "29881aa07d9440f99b7628b62f974413",
            "d7d2e333b8144187bb4d83de51a8d455",
            "8a6ba5b2dfdd4f41919958d6287b9c9f",
            "c78b2269cd41423b8d4372e443ee1f54",
            "f79d29e7d6db43468edc4b84072668f3",
            "2b3fa2b513a74782befaffe2f018882d",
            "a5774e8d791447968d7e4e62bd1c67d0",
            "230feec9cd2548f4a97eea59c356e4f5"
          ]
        },
        "id": "afoXn3o2XB04",
        "outputId": "1afe7e66-37f8-4df4-b8a4-12c8345ad924"
      },
      "execution_count": null,
      "outputs": [
        {
          "output_type": "display_data",
          "data": {
            "text/plain": [
              "Loading pipeline components...:   0%|          | 0/6 [00:00<?, ?it/s]"
            ],
            "application/vnd.jupyter.widget-view+json": {
              "version_major": 2,
              "version_minor": 0,
              "model_id": "b91d62f90e9a4befb646c9027869daf6"
            }
          },
          "metadata": {}
        },
        {
          "output_type": "stream",
          "name": "stderr",
          "text": [
            "`torch_dtype` is deprecated! Use `dtype` instead!\n",
            "/usr/local/lib/python3.12/dist-packages/torch/nn/utils/weight_norm.py:143: FutureWarning: `torch.nn.utils.weight_norm` is deprecated in favor of `torch.nn.utils.parametrizations.weight_norm`.\n",
            "  WeightNorm.apply(module, name, dim)\n"
          ]
        }
      ]
    },
    {
      "cell_type": "code",
      "source": [
        "# fix sample rate\n",
        "SR_MODEL = getattr(pipe, \"sample_rate\", 44100)\n",
        "try:\n",
        "    AUDIO_CHANNELS = getattr(pipe, \"audio_channels\", 2)\n",
        "except Exception:\n",
        "    AUDIO_CHANNELS = 2"
      ],
      "metadata": {
        "id": "TT28SlRsdovZ"
      },
      "execution_count": null,
      "outputs": []
    },
    {
      "cell_type": "code",
      "source": [
        "print(\"Stable Audio Open — sample_rate:\", SR_MODEL, \"| channels:\", AUDIO_CHANNELS)\n",
        "assert SR_MODEL == 44100, f\"Expected 44.1 kHz; got {SR_MODEL}. Adjust code if model SR differs.\""
      ],
      "metadata": {
        "colab": {
          "base_uri": "https://localhost:8080/"
        },
        "id": "gKM2QO4OJ1e0",
        "outputId": "e7863079-647f-45e8-e2f8-38403468c737"
      },
      "execution_count": null,
      "outputs": [
        {
          "output_type": "stream",
          "name": "stdout",
          "text": [
            "Stable Audio Open — sample_rate: 44100 | channels: 2\n"
          ]
        }
      ]
    },
    {
      "cell_type": "code",
      "source": [
        "import numpy as np, soundfile as sf, librosa\n",
        "from typing import List, Dict"
      ],
      "metadata": {
        "id": "50W4Io1XIn1A"
      },
      "execution_count": null,
      "outputs": []
    },
    {
      "cell_type": "code",
      "source": [
        "SEG_SEC = 6.0    # window length\n",
        "HOP_SEC = 3.0    # hop length (50% overlap)"
      ],
      "metadata": {
        "id": "3dFXjfxVJ4Q_"
      },
      "execution_count": null,
      "outputs": []
    },
    {
      "cell_type": "code",
      "source": [
        "def build_segment_index(manifest_df: pd.DataFrame, prefer_local: bool=False) -> List[Dict]:\n",
        "    \"\"\"\n",
        "    Build a list of segment descriptors without decoding audio.\n",
        "    Each item: {path, start, frames, sr_src, site, outcome, murmur, patient_id, label}\n",
        "    label: 1 for Abnormal, 0 for Normal (for sampler)\n",
        "    \"\"\"\n",
        "    items = []\n",
        "    for _, r in manifest_df.iterrows():\n",
        "        wav = r[\"audio\"]\n",
        "        if prefer_local and wav.startswith(CIRCOR_ROOT):\n",
        "            wav = wav.replace(f\"{CIRCOR_ROOT}/training_data\", \"/content/training_data\")\n",
        "        try:\n",
        "            info = sf.info(wav)\n",
        "        except Exception as e:\n",
        "            print(\"Skipping (cannot read):\", wav, e)\n",
        "            continue\n",
        "        sr = info.samplerate\n",
        "        total_frames = info.frames\n",
        "        win = int(SEG_SEC * sr)\n",
        "        hop = int(HOP_SEC * sr)\n",
        "        if total_frames < win:\n",
        "            continue\n",
        "        starts = list(range(0, total_frames - win + 1, hop))\n",
        "        label = 1 if str(r[\"outcome\"]).strip() == \"Abnormal\" else 0\n",
        "        for s in starts:\n",
        "            items.append({\n",
        "                \"path\": wav, \"start\": s, \"frames\": win, \"sr_src\": sr,\n",
        "                \"site\": r[\"site\"], \"outcome\": r[\"outcome\"], \"murmur\": r.get(\"murmur\", \"Unknown\"),\n",
        "                \"patient_id\": r[\"patient_id\"], \"label\": label,\n",
        "            })\n",
        "    return items"
      ],
      "metadata": {
        "id": "baFJZZ1vJ5zc"
      },
      "execution_count": null,
      "outputs": []
    },
    {
      "cell_type": "code",
      "source": [
        "print(\"Indexing train segments...\")\n",
        "train_index = build_segment_index(train_df, prefer_local=False)\n",
        "print(\"Indexing val segments...\")\n",
        "val_index   = build_segment_index(val_df,   prefer_local=False)\n",
        "\n",
        "print(f\"Train segments: {len(train_index)} | Val segments: {len(val_index)}\")"
      ],
      "metadata": {
        "colab": {
          "base_uri": "https://localhost:8080/"
        },
        "id": "rOQiTFTTJ8Q8",
        "outputId": "e75947e6-9b2c-4c4e-d2d0-0aac806eba11"
      },
      "execution_count": null,
      "outputs": [
        {
          "output_type": "stream",
          "name": "stdout",
          "text": [
            "Indexing train segments...\n",
            "Indexing val segments...\n",
            "Train segments: 13512 | Val segments: 2904\n"
          ]
        }
      ]
    },
    {
      "cell_type": "code",
      "source": [
        "import torch\n",
        "from torch.utils.data import Dataset, DataLoader, WeightedRandomSampler"
      ],
      "metadata": {
        "id": "9tt82W56J-NC"
      },
      "execution_count": null,
      "outputs": []
    },
    {
      "cell_type": "code",
      "source": [
        "def make_prompt(site, outcome, murmur):\n",
        "    parts = [f\"site={str(site)}\", f\"outcome={str(outcome).lower()}\"]\n",
        "    parts.append(\"murmur=present\" if str(murmur)==\"Present\" else \"murmur=absent\")\n",
        "    return \"; \".join(parts)"
      ],
      "metadata": {
        "id": "KFvQJFcDKAHv"
      },
      "execution_count": null,
      "outputs": []
    },
    {
      "cell_type": "code",
      "source": [
        "class PCGSegmentDataset(Dataset):\n",
        "    def __init__(self, seg_index):\n",
        "        self.items = seg_index\n",
        "    def __len__(self): return len(self.items)\n",
        "    def __getitem__(self, i):\n",
        "        it = self.items[i]\n",
        "        path, start, frames, sr_src = it[\"path\"], it[\"start\"], it[\"frames\"], it[\"sr_src\"]\n",
        "        x, sr = sf.read(path, start=start, frames=frames, dtype=\"float32\", always_2d=False)\n",
        "        if x.ndim > 1:\n",
        "            x = np.mean(x, axis=1).astype(np.float32)  # collapse to mono\n",
        "        # Resample 4 kHz → 44.1 kHz\n",
        "        if sr != SR_MODEL:\n",
        "            x = librosa.resample(x, orig_sr=sr, target_sr=SR_MODEL, res_type=\"soxr_vhq\").astype(np.float32)\n",
        "        # Peak normalization (clip-safe)\n",
        "        peak = float(np.max(np.abs(x)) + 1e-8)\n",
        "        x = (x / peak).astype(np.float32)\n",
        "        # Duplicate to stereo\n",
        "        x_st = np.stack([x, x], axis=0)  # [2, T]\n",
        "        prompt = make_prompt(it[\"site\"], it[\"outcome\"], it[\"murmur\"])\n",
        "        return {\n",
        "            \"audio\": torch.from_numpy(x_st),   # [2, T] float32 in [-1, 1]\n",
        "            \"prompt\": prompt,\n",
        "            \"label\": it[\"label\"],              # 1 abnormal / 0 normal (for sampling only)\n",
        "            \"patient_id\": str(it[\"patient_id\"]),\n",
        "        }\n"
      ],
      "metadata": {
        "id": "ximoGZwLKBi1"
      },
      "execution_count": null,
      "outputs": []
    },
    {
      "cell_type": "code",
      "source": [
        "train_ds = PCGSegmentDataset(train_index)\n",
        "val_ds   = PCGSegmentDataset(val_index)"
      ],
      "metadata": {
        "id": "hNp0e_57KDQK"
      },
      "execution_count": null,
      "outputs": []
    },
    {
      "cell_type": "code",
      "source": [
        "def make_balanced_sampler(index):\n",
        "    labels = [it[\"label\"] for it in index]\n",
        "    pos = sum(labels)\n",
        "    neg = len(labels) - pos\n",
        "    w_pos = 0.5 / max(1, pos)\n",
        "    w_neg = 0.5 / max(1, neg)\n",
        "    weights = [w_pos if y==1 else w_neg for y in labels]\n",
        "    return WeightedRandomSampler(weights, num_samples=len(weights), replacement=True)"
      ],
      "metadata": {
        "id": "WE7kmswWKFCG"
      },
      "execution_count": null,
      "outputs": []
    },
    {
      "cell_type": "code",
      "source": [
        "BATCH = 4  # T4\n",
        "train_loader = DataLoader(train_ds, batch_size=BATCH, sampler=make_balanced_sampler(train_index),\n",
        "                          num_workers=2, pin_memory=True)\n",
        "val_loader   = DataLoader(val_ds,   batch_size=BATCH, shuffle=False,\n",
        "                          num_workers=2, pin_memory=True)"
      ],
      "metadata": {
        "id": "xqGPm8zwKGuV"
      },
      "execution_count": null,
      "outputs": []
    },
    {
      "cell_type": "code",
      "source": [
        "batch = next(iter(train_loader))\n",
        "print(\"Batch audio shape:\", batch[\"audio\"].shape, \"| example prompt:\", batch[\"prompt\"][0])"
      ],
      "metadata": {
        "colab": {
          "base_uri": "https://localhost:8080/"
        },
        "id": "Bx6Sz4YMKJgj",
        "outputId": "7137d1d5-e7f3-4a77-b0c6-ba4600155a41"
      },
      "execution_count": null,
      "outputs": [
        {
          "output_type": "stream",
          "name": "stdout",
          "text": [
            "Batch audio shape: torch.Size([4, 2, 264600]) | example prompt: site=PV; outcome=abnormal; murmur=absent\n"
          ]
        }
      ]
    },
    {
      "cell_type": "code",
      "source": [
        "text_encoder = pipe.text_encoder\n",
        "tokenizer    = pipe.tokenizer\n",
        "vae          = pipe.vae\n",
        "transformer  = pipe.transformer\n",
        "scheduler    = pipe.scheduler\n",
        "\n",
        "for p in text_encoder.parameters(): p.requires_grad = False\n",
        "for p in vae.parameters():          p.requires_grad = False\n",
        "for p in transformer.parameters():  p.requires_grad = True  # LoRA will narrow this to adapters only"
      ],
      "metadata": {
        "id": "npW2AsRNKLrF"
      },
      "execution_count": null,
      "outputs": []
    },
    {
      "cell_type": "code",
      "source": [
        "import inspect, torch.nn as nn\n",
        "from diffusers.models.attention_processor import LoRAAttnProcessor\n",
        "from diffusers.loaders import AttnProcsLayers"
      ],
      "metadata": {
        "id": "WIQTh80WMQFc"
      },
      "execution_count": null,
      "outputs": []
    },
    {
      "cell_type": "code",
      "source": [
        "for p in transformer.parameters():\n",
        "    p.requires_grad = False"
      ],
      "metadata": {
        "id": "hZhs2-RnMOKl"
      },
      "execution_count": null,
      "outputs": []
    },
    {
      "cell_type": "code",
      "source": [
        "from torch.optim import AdamW\n",
        "optimizer = AdamW(lora_params, lr=1e-4, betas=(0.9,0.999), weight_decay=1e-2)"
      ],
      "metadata": {
        "colab": {
          "base_uri": "https://localhost:8080/",
          "height": 304
        },
        "id": "PUzEJCTSavly",
        "outputId": "6812a823-ecbf-4147-99cc-4df29dbdd70b"
      },
      "execution_count": null,
      "outputs": [
        {
          "output_type": "error",
          "ename": "ValueError",
          "evalue": "optimizer got an empty parameter list",
          "traceback": [
            "\u001b[0;31m---------------------------------------------------------------------------\u001b[0m",
            "\u001b[0;31mValueError\u001b[0m                                Traceback (most recent call last)",
            "\u001b[0;32m/tmp/ipython-input-4211227473.py\u001b[0m in \u001b[0;36m<cell line: 0>\u001b[0;34m()\u001b[0m\n\u001b[1;32m      1\u001b[0m \u001b[0;32mfrom\u001b[0m \u001b[0mtorch\u001b[0m\u001b[0;34m.\u001b[0m\u001b[0moptim\u001b[0m \u001b[0;32mimport\u001b[0m \u001b[0mAdamW\u001b[0m\u001b[0;34m\u001b[0m\u001b[0;34m\u001b[0m\u001b[0m\n\u001b[0;32m----> 2\u001b[0;31m \u001b[0moptimizer\u001b[0m \u001b[0;34m=\u001b[0m \u001b[0mAdamW\u001b[0m\u001b[0;34m(\u001b[0m\u001b[0mlora_params\u001b[0m\u001b[0;34m,\u001b[0m \u001b[0mlr\u001b[0m\u001b[0;34m=\u001b[0m\u001b[0;36m1e-4\u001b[0m\u001b[0;34m,\u001b[0m \u001b[0mbetas\u001b[0m\u001b[0;34m=\u001b[0m\u001b[0;34m(\u001b[0m\u001b[0;36m0.9\u001b[0m\u001b[0;34m,\u001b[0m\u001b[0;36m0.999\u001b[0m\u001b[0;34m)\u001b[0m\u001b[0;34m,\u001b[0m \u001b[0mweight_decay\u001b[0m\u001b[0;34m=\u001b[0m\u001b[0;36m1e-2\u001b[0m\u001b[0;34m)\u001b[0m\u001b[0;34m\u001b[0m\u001b[0;34m\u001b[0m\u001b[0m\n\u001b[0m",
            "\u001b[0;32m/usr/local/lib/python3.12/dist-packages/torch/optim/adamw.py\u001b[0m in \u001b[0;36m__init__\u001b[0;34m(self, params, lr, betas, eps, weight_decay, amsgrad, maximize, foreach, capturable, differentiable, fused)\u001b[0m\n\u001b[1;32m     75\u001b[0m             \u001b[0mfused\u001b[0m\u001b[0;34m=\u001b[0m\u001b[0mfused\u001b[0m\u001b[0;34m,\u001b[0m\u001b[0;34m\u001b[0m\u001b[0;34m\u001b[0m\u001b[0m\n\u001b[1;32m     76\u001b[0m         )\n\u001b[0;32m---> 77\u001b[0;31m         \u001b[0msuper\u001b[0m\u001b[0;34m(\u001b[0m\u001b[0;34m)\u001b[0m\u001b[0;34m.\u001b[0m\u001b[0m__init__\u001b[0m\u001b[0;34m(\u001b[0m\u001b[0mparams\u001b[0m\u001b[0;34m,\u001b[0m \u001b[0mdefaults\u001b[0m\u001b[0;34m)\u001b[0m\u001b[0;34m\u001b[0m\u001b[0;34m\u001b[0m\u001b[0m\n\u001b[0m\u001b[1;32m     78\u001b[0m \u001b[0;34m\u001b[0m\u001b[0m\n\u001b[1;32m     79\u001b[0m         \u001b[0;32mif\u001b[0m \u001b[0mfused\u001b[0m\u001b[0;34m:\u001b[0m\u001b[0;34m\u001b[0m\u001b[0;34m\u001b[0m\u001b[0m\n",
            "\u001b[0;32m/usr/local/lib/python3.12/dist-packages/torch/optim/optimizer.py\u001b[0m in \u001b[0;36m__init__\u001b[0;34m(self, params, defaults)\u001b[0m\n\u001b[1;32m    364\u001b[0m         \u001b[0mparam_groups\u001b[0m \u001b[0;34m=\u001b[0m \u001b[0mlist\u001b[0m\u001b[0;34m(\u001b[0m\u001b[0mparams\u001b[0m\u001b[0;34m)\u001b[0m\u001b[0;34m\u001b[0m\u001b[0;34m\u001b[0m\u001b[0m\n\u001b[1;32m    365\u001b[0m         \u001b[0;32mif\u001b[0m \u001b[0mlen\u001b[0m\u001b[0;34m(\u001b[0m\u001b[0mparam_groups\u001b[0m\u001b[0;34m)\u001b[0m \u001b[0;34m==\u001b[0m \u001b[0;36m0\u001b[0m\u001b[0;34m:\u001b[0m\u001b[0;34m\u001b[0m\u001b[0;34m\u001b[0m\u001b[0m\n\u001b[0;32m--> 366\u001b[0;31m             \u001b[0;32mraise\u001b[0m \u001b[0mValueError\u001b[0m\u001b[0;34m(\u001b[0m\u001b[0;34m\"optimizer got an empty parameter list\"\u001b[0m\u001b[0;34m)\u001b[0m\u001b[0;34m\u001b[0m\u001b[0;34m\u001b[0m\u001b[0m\n\u001b[0m\u001b[1;32m    367\u001b[0m         \u001b[0;32mif\u001b[0m \u001b[0;32mnot\u001b[0m \u001b[0misinstance\u001b[0m\u001b[0;34m(\u001b[0m\u001b[0mparam_groups\u001b[0m\u001b[0;34m[\u001b[0m\u001b[0;36m0\u001b[0m\u001b[0;34m]\u001b[0m\u001b[0;34m,\u001b[0m \u001b[0mdict\u001b[0m\u001b[0;34m)\u001b[0m\u001b[0;34m:\u001b[0m\u001b[0;34m\u001b[0m\u001b[0;34m\u001b[0m\u001b[0m\n\u001b[1;32m    368\u001b[0m             \u001b[0mparam_groups\u001b[0m \u001b[0;34m=\u001b[0m \u001b[0;34m[\u001b[0m\u001b[0;34m{\u001b[0m\u001b[0;34m\"params\"\u001b[0m\u001b[0;34m:\u001b[0m \u001b[0mparam_groups\u001b[0m\u001b[0;34m}\u001b[0m\u001b[0;34m]\u001b[0m\u001b[0;34m\u001b[0m\u001b[0;34m\u001b[0m\u001b[0m\n",
            "\u001b[0;31mValueError\u001b[0m: optimizer got an empty parameter list"
          ]
        }
      ]
    },
    {
      "cell_type": "code",
      "source": [
        "# 1) Decide what args LoRAAttnProcessor supports in your installed diffusers\n",
        "sig = inspect.signature(LoRAAttnProcessor.__init__)\n",
        "supports_hidden = \"hidden_size\" in sig.parameters\n",
        "supports_cross  = \"cross_attention_dim\" in sig.parameters\n",
        "supports_rank   = \"rank\" in sig.parameters  # should be True in all recent versions\n",
        "\n",
        "# 2) Build a LoRA processor for every attention module\n",
        "RANK = 16\n",
        "lora_attn_procs = {}\n",
        "\n",
        "# If your version needs dims, derive them from config once\n",
        "if supports_hidden:\n",
        "    hidden_size = transformer.config.attention_head_dim * transformer.config.num_attention_heads\n",
        "else:\n",
        "    hidden_size = None\n",
        "cross_dim = getattr(transformer.config, \"cross_attention_dim\", None) if supports_cross else None\n",
        "\n",
        "for name in transformer.attn_processors.keys():\n",
        "    kwargs = {}\n",
        "    if supports_hidden: kwargs[\"hidden_size\"] = hidden_size\n",
        "    if supports_cross:  kwargs[\"cross_attention_dim\"] = cross_dim\n",
        "    if supports_rank:   kwargs[\"rank\"] = RANK\n",
        "    lora_attn_procs[name] = LoRAAttnProcessor(**kwargs)\n",
        "\n",
        "# 3) Install the processors\n",
        "transformer.set_attn_processor(lora_attn_procs)\n",
        "\n",
        "# 4) Collect LoRA trainables (a neat wrapper exists in Diffusers)\n",
        "try:\n",
        "    lora_layers = AttnProcsLayers(transformer.attn_processors)  # nn.Module wrapper\n",
        "    lora_params = list(lora_layers.parameters())\n",
        "except Exception:\n",
        "    # Fallback: flatten manually\n",
        "    lora_params = []\n",
        "    for proc in transformer.attn_processors.values():\n",
        "        lora_params += list(proc.parameters())\n",
        "\n",
        "for p in lora_params:\n",
        "    p.requires_grad = True\n",
        "\n",
        "print(\"LoRA trainable params:\", sum(p.numel() for p in lora_params))"
      ],
      "metadata": {
        "colab": {
          "base_uri": "https://localhost:8080/",
          "height": 408
        },
        "id": "A6FXRh0mUXWX",
        "outputId": "8c76cd63-0c39-4e3f-c6b0-9f108af3d83a"
      },
      "execution_count": null,
      "outputs": [
        {
          "output_type": "error",
          "ename": "AttributeError",
          "evalue": "'LoRAAttnProcessor' object has no attribute 'parameters'",
          "traceback": [
            "\u001b[0;31m---------------------------------------------------------------------------\u001b[0m",
            "\u001b[0;31mTypeError\u001b[0m                                 Traceback (most recent call last)",
            "\u001b[0;32m/tmp/ipython-input-3895860179.py\u001b[0m in \u001b[0;36m<cell line: 0>\u001b[0;34m()\u001b[0m\n\u001b[1;32m     29\u001b[0m \u001b[0;32mtry\u001b[0m\u001b[0;34m:\u001b[0m\u001b[0;34m\u001b[0m\u001b[0;34m\u001b[0m\u001b[0m\n\u001b[0;32m---> 30\u001b[0;31m     \u001b[0mlora_layers\u001b[0m \u001b[0;34m=\u001b[0m \u001b[0mAttnProcsLayers\u001b[0m\u001b[0;34m(\u001b[0m\u001b[0mtransformer\u001b[0m\u001b[0;34m.\u001b[0m\u001b[0mattn_processors\u001b[0m\u001b[0;34m)\u001b[0m  \u001b[0;31m# nn.Module wrapper\u001b[0m\u001b[0;34m\u001b[0m\u001b[0;34m\u001b[0m\u001b[0m\n\u001b[0m\u001b[1;32m     31\u001b[0m     \u001b[0mlora_params\u001b[0m \u001b[0;34m=\u001b[0m \u001b[0mlist\u001b[0m\u001b[0;34m(\u001b[0m\u001b[0mlora_layers\u001b[0m\u001b[0;34m.\u001b[0m\u001b[0mparameters\u001b[0m\u001b[0;34m(\u001b[0m\u001b[0;34m)\u001b[0m\u001b[0;34m)\u001b[0m\u001b[0;34m\u001b[0m\u001b[0;34m\u001b[0m\u001b[0m\n",
            "\u001b[0;32m/usr/local/lib/python3.12/dist-packages/diffusers/loaders/utils.py\u001b[0m in \u001b[0;36m__init__\u001b[0;34m(self, state_dict)\u001b[0m\n\u001b[1;32m     22\u001b[0m         \u001b[0msuper\u001b[0m\u001b[0;34m(\u001b[0m\u001b[0;34m)\u001b[0m\u001b[0;34m.\u001b[0m\u001b[0m__init__\u001b[0m\u001b[0;34m(\u001b[0m\u001b[0;34m)\u001b[0m\u001b[0;34m\u001b[0m\u001b[0;34m\u001b[0m\u001b[0m\n\u001b[0;32m---> 23\u001b[0;31m         \u001b[0mself\u001b[0m\u001b[0;34m.\u001b[0m\u001b[0mlayers\u001b[0m \u001b[0;34m=\u001b[0m \u001b[0mtorch\u001b[0m\u001b[0;34m.\u001b[0m\u001b[0mnn\u001b[0m\u001b[0;34m.\u001b[0m\u001b[0mModuleList\u001b[0m\u001b[0;34m(\u001b[0m\u001b[0mstate_dict\u001b[0m\u001b[0;34m.\u001b[0m\u001b[0mvalues\u001b[0m\u001b[0;34m(\u001b[0m\u001b[0;34m)\u001b[0m\u001b[0;34m)\u001b[0m\u001b[0;34m\u001b[0m\u001b[0;34m\u001b[0m\u001b[0m\n\u001b[0m\u001b[1;32m     24\u001b[0m         \u001b[0mself\u001b[0m\u001b[0;34m.\u001b[0m\u001b[0mmapping\u001b[0m \u001b[0;34m=\u001b[0m \u001b[0mdict\u001b[0m\u001b[0;34m(\u001b[0m\u001b[0menumerate\u001b[0m\u001b[0;34m(\u001b[0m\u001b[0mstate_dict\u001b[0m\u001b[0;34m.\u001b[0m\u001b[0mkeys\u001b[0m\u001b[0;34m(\u001b[0m\u001b[0;34m)\u001b[0m\u001b[0;34m)\u001b[0m\u001b[0;34m)\u001b[0m\u001b[0;34m\u001b[0m\u001b[0;34m\u001b[0m\u001b[0m\n",
            "\u001b[0;32m/usr/local/lib/python3.12/dist-packages/torch/nn/modules/container.py\u001b[0m in \u001b[0;36m__init__\u001b[0;34m(self, modules)\u001b[0m\n\u001b[1;32m    309\u001b[0m         \u001b[0;32mif\u001b[0m \u001b[0mmodules\u001b[0m \u001b[0;32mis\u001b[0m \u001b[0;32mnot\u001b[0m \u001b[0;32mNone\u001b[0m\u001b[0;34m:\u001b[0m\u001b[0;34m\u001b[0m\u001b[0;34m\u001b[0m\u001b[0m\n\u001b[0;32m--> 310\u001b[0;31m             \u001b[0mself\u001b[0m \u001b[0;34m+=\u001b[0m \u001b[0mmodules\u001b[0m\u001b[0;34m\u001b[0m\u001b[0;34m\u001b[0m\u001b[0m\n\u001b[0m\u001b[1;32m    311\u001b[0m \u001b[0;34m\u001b[0m\u001b[0m\n",
            "\u001b[0;32m/usr/local/lib/python3.12/dist-packages/torch/nn/modules/container.py\u001b[0m in \u001b[0;36m__iadd__\u001b[0;34m(self, modules)\u001b[0m\n\u001b[1;32m    358\u001b[0m     \u001b[0;32mdef\u001b[0m \u001b[0m__iadd__\u001b[0m\u001b[0;34m(\u001b[0m\u001b[0mself\u001b[0m\u001b[0;34m,\u001b[0m \u001b[0mmodules\u001b[0m\u001b[0;34m:\u001b[0m \u001b[0mIterable\u001b[0m\u001b[0;34m[\u001b[0m\u001b[0mModule\u001b[0m\u001b[0;34m]\u001b[0m\u001b[0;34m)\u001b[0m \u001b[0;34m->\u001b[0m \u001b[0mSelf\u001b[0m\u001b[0;34m:\u001b[0m\u001b[0;34m\u001b[0m\u001b[0;34m\u001b[0m\u001b[0m\n\u001b[0;32m--> 359\u001b[0;31m         \u001b[0;32mreturn\u001b[0m \u001b[0mself\u001b[0m\u001b[0;34m.\u001b[0m\u001b[0mextend\u001b[0m\u001b[0;34m(\u001b[0m\u001b[0mmodules\u001b[0m\u001b[0;34m)\u001b[0m\u001b[0;34m\u001b[0m\u001b[0;34m\u001b[0m\u001b[0m\n\u001b[0m\u001b[1;32m    360\u001b[0m \u001b[0;34m\u001b[0m\u001b[0m\n",
            "\u001b[0;32m/usr/local/lib/python3.12/dist-packages/torch/nn/modules/container.py\u001b[0m in \u001b[0;36mextend\u001b[0;34m(self, modules)\u001b[0m\n\u001b[1;32m    442\u001b[0m         \u001b[0;32mfor\u001b[0m \u001b[0mi\u001b[0m\u001b[0;34m,\u001b[0m \u001b[0mmodule\u001b[0m \u001b[0;32min\u001b[0m \u001b[0menumerate\u001b[0m\u001b[0;34m(\u001b[0m\u001b[0mmodules\u001b[0m\u001b[0;34m)\u001b[0m\u001b[0;34m:\u001b[0m\u001b[0;34m\u001b[0m\u001b[0;34m\u001b[0m\u001b[0m\n\u001b[0;32m--> 443\u001b[0;31m             \u001b[0mself\u001b[0m\u001b[0;34m.\u001b[0m\u001b[0madd_module\u001b[0m\u001b[0;34m(\u001b[0m\u001b[0mstr\u001b[0m\u001b[0;34m(\u001b[0m\u001b[0moffset\u001b[0m \u001b[0;34m+\u001b[0m \u001b[0mi\u001b[0m\u001b[0;34m)\u001b[0m\u001b[0;34m,\u001b[0m \u001b[0mmodule\u001b[0m\u001b[0;34m)\u001b[0m\u001b[0;34m\u001b[0m\u001b[0;34m\u001b[0m\u001b[0m\n\u001b[0m\u001b[1;32m    444\u001b[0m         \u001b[0;32mreturn\u001b[0m \u001b[0mself\u001b[0m\u001b[0;34m\u001b[0m\u001b[0;34m\u001b[0m\u001b[0m\n",
            "\u001b[0;32m/usr/local/lib/python3.12/dist-packages/torch/nn/modules/module.py\u001b[0m in \u001b[0;36madd_module\u001b[0;34m(self, name, module)\u001b[0m\n\u001b[1;32m    641\u001b[0m         \u001b[0;32mif\u001b[0m \u001b[0;32mnot\u001b[0m \u001b[0misinstance\u001b[0m\u001b[0;34m(\u001b[0m\u001b[0mmodule\u001b[0m\u001b[0;34m,\u001b[0m \u001b[0mModule\u001b[0m\u001b[0;34m)\u001b[0m \u001b[0;32mand\u001b[0m \u001b[0mmodule\u001b[0m \u001b[0;32mis\u001b[0m \u001b[0;32mnot\u001b[0m \u001b[0;32mNone\u001b[0m\u001b[0;34m:\u001b[0m\u001b[0;34m\u001b[0m\u001b[0;34m\u001b[0m\u001b[0m\n\u001b[0;32m--> 642\u001b[0;31m             \u001b[0;32mraise\u001b[0m \u001b[0mTypeError\u001b[0m\u001b[0;34m(\u001b[0m\u001b[0;34mf\"{torch.typename(module)} is not a Module subclass\"\u001b[0m\u001b[0;34m)\u001b[0m\u001b[0;34m\u001b[0m\u001b[0;34m\u001b[0m\u001b[0m\n\u001b[0m\u001b[1;32m    643\u001b[0m         \u001b[0;32melif\u001b[0m \u001b[0;32mnot\u001b[0m \u001b[0misinstance\u001b[0m\u001b[0;34m(\u001b[0m\u001b[0mname\u001b[0m\u001b[0;34m,\u001b[0m \u001b[0mstr\u001b[0m\u001b[0;34m)\u001b[0m\u001b[0;34m:\u001b[0m\u001b[0;34m\u001b[0m\u001b[0;34m\u001b[0m\u001b[0m\n",
            "\u001b[0;31mTypeError\u001b[0m: diffusers.models.attention_processor.LoRAAttnProcessor is not a Module subclass",
            "\nDuring handling of the above exception, another exception occurred:\n",
            "\u001b[0;31mAttributeError\u001b[0m                            Traceback (most recent call last)",
            "\u001b[0;32m/tmp/ipython-input-3895860179.py\u001b[0m in \u001b[0;36m<cell line: 0>\u001b[0;34m()\u001b[0m\n\u001b[1;32m     34\u001b[0m     \u001b[0mlora_params\u001b[0m \u001b[0;34m=\u001b[0m \u001b[0;34m[\u001b[0m\u001b[0;34m]\u001b[0m\u001b[0;34m\u001b[0m\u001b[0;34m\u001b[0m\u001b[0m\n\u001b[1;32m     35\u001b[0m     \u001b[0;32mfor\u001b[0m \u001b[0mproc\u001b[0m \u001b[0;32min\u001b[0m \u001b[0mtransformer\u001b[0m\u001b[0;34m.\u001b[0m\u001b[0mattn_processors\u001b[0m\u001b[0;34m.\u001b[0m\u001b[0mvalues\u001b[0m\u001b[0;34m(\u001b[0m\u001b[0;34m)\u001b[0m\u001b[0;34m:\u001b[0m\u001b[0;34m\u001b[0m\u001b[0;34m\u001b[0m\u001b[0m\n\u001b[0;32m---> 36\u001b[0;31m         \u001b[0mlora_params\u001b[0m \u001b[0;34m+=\u001b[0m \u001b[0mlist\u001b[0m\u001b[0;34m(\u001b[0m\u001b[0mproc\u001b[0m\u001b[0;34m.\u001b[0m\u001b[0mparameters\u001b[0m\u001b[0;34m(\u001b[0m\u001b[0;34m)\u001b[0m\u001b[0;34m)\u001b[0m\u001b[0;34m\u001b[0m\u001b[0;34m\u001b[0m\u001b[0m\n\u001b[0m\u001b[1;32m     37\u001b[0m \u001b[0;34m\u001b[0m\u001b[0m\n\u001b[1;32m     38\u001b[0m \u001b[0;32mfor\u001b[0m \u001b[0mp\u001b[0m \u001b[0;32min\u001b[0m \u001b[0mlora_params\u001b[0m\u001b[0;34m:\u001b[0m\u001b[0;34m\u001b[0m\u001b[0;34m\u001b[0m\u001b[0m\n",
            "\u001b[0;31mAttributeError\u001b[0m: 'LoRAAttnProcessor' object has no attribute 'parameters'"
          ]
        }
      ]
    },
    {
      "cell_type": "code",
      "source": [
        "import torch.nn.functional as F\n",
        "\n",
        "@torch.no_grad()\n",
        "def encode_audio_to_latents(audio_stereo: torch.Tensor):\n",
        "    \"\"\"\n",
        "    audio_stereo: [B, 2, T] in [-1, 1], float32\n",
        "    returns: latents as expected by DiT\n",
        "    \"\"\"\n",
        "    audio_stereo = audio_stereo.to(dtype=torch.float16, device=\"cuda\")\n",
        "    latents = vae.encode(audio_stereo).latent_dist.sample()\n",
        "    # Scale latents (Diffusers convention)\n",
        "    scaling = getattr(vae.config, \"scaling_factor\", 0.18215)\n",
        "    latents = latents * scaling\n",
        "    return latents\n",
        "\n",
        "def get_text_embeddings(prompts):\n",
        "    tokens = tokenizer(list(prompts), padding=\"max_length\", truncation=True, return_tensors=\"pt\").to(\"cuda\")\n",
        "    with torch.no_grad():\n",
        "        # For T5, call returns BaseModelOutput with .last_hidden_state at [0]\n",
        "        out = text_encoder(input_ids=tokens.input_ids, attention_mask=tokens.attention_mask)\n",
        "        text_emb = out[0] if isinstance(out, (tuple, list)) else out.last_hidden_state\n",
        "    return text_emb\n",
        "\n",
        "def noise_pred_loss(batch):\n",
        "    # Batch tensors\n",
        "    audio = batch[\"audio\"].to(\"cuda\")  # [B, 2, T]\n",
        "    prompts = batch[\"prompt\"]\n",
        "    # Encode to latents\n",
        "    with torch.no_grad():\n",
        "        latents = encode_audio_to_latents(audio)  # fp16 on cuda\n",
        "    # Sample noise & timesteps\n",
        "    noise = torch.randn_like(latents)\n",
        "    timesteps = torch.randint(0, scheduler.config.num_train_timesteps, (latents.size(0),), device=latents.device, dtype=torch.long)\n",
        "    noisy_latents = scheduler.add_noise(latents, noise, timesteps)\n",
        "    # Text conditioning\n",
        "    text_emb = get_text_embeddings(prompts)\n",
        "    # Forward DiT (signature may vary slightly across versions)\n",
        "    out = transformer(noisy_latents, timesteps, encoder_hidden_states=text_emb)\n",
        "    noise_pred = out.sample if hasattr(out, \"sample\") else out[0]\n",
        "    loss = F.mse_loss(noise_pred.float(), noise.float(), reduction=\"mean\")\n",
        "    return loss"
      ],
      "metadata": {
        "id": "eY1FmpQCMQ1I"
      },
      "execution_count": null,
      "outputs": []
    },
    {
      "cell_type": "code",
      "source": [
        "from torch.optim import AdamW\n",
        "from accelerate import Accelerator\n",
        "from tqdm.auto import tqdm\n",
        "import time\n",
        "\n",
        "# Optimizer over LoRA params only\n",
        "lora_params = [p for n,p in transformer.named_parameters() if p.requires_grad]\n",
        "optimizer = AdamW(lora_params, lr=1e-4, betas=(0.9,0.999), weight_decay=1e-2)\n",
        "\n",
        "accelerator = Accelerator(mixed_precision=\"fp16\")\n",
        "transformer, optimizer, train_loader = accelerator.prepare(transformer, optimizer, train_loader)\n",
        "\n",
        "MAX_STEPS = 10_000\n",
        "LOG_EVERY = 50\n",
        "EVAL_EVERY = 1000\n",
        "\n",
        "transformer.train()\n",
        "global_step, run_loss = 0, 0.0\n",
        "\n",
        "for epoch in range(10**9):\n",
        "    for batch in train_loader:\n",
        "        with accelerator.accumulate(transformer):\n",
        "            loss = noise_pred_loss(batch)\n",
        "            accelerator.backward(loss)\n",
        "            accelerator.clip_grad_norm_(lora_params, 1.0)\n",
        "            optimizer.step()\n",
        "            optimizer.zero_grad(set_to_none=True)\n",
        "        global_step += 1\n",
        "        run_loss += float(loss)\n",
        "        if global_step % LOG_EVERY == 0:\n",
        "            accelerator.print(f\"step {global_step:,} | loss {run_loss/LOG_EVERY:.4f}\")\n",
        "            run_loss = 0.0\n",
        "        if global_step % EVAL_EVERY == 0:\n",
        "            transformer.eval()\n",
        "            accelerator.print(\"Generating quick validation sample…\")\n",
        "            try:\n",
        "                wavs = pipe(\n",
        "                    [\"site=MV; outcome=abnormal; murmur=present\"],\n",
        "                    num_inference_steps=120,\n",
        "                    audio_end_in_s=6.0,\n",
        "                    num_waveforms_per_prompt=1,\n",
        "                    generator=torch.Generator(device=\"cuda\").manual_seed(0),\n",
        "                ).audios\n",
        "                import soundfile as sf\n",
        "                out_dir = Path(CIRCOR_ROOT)/\"runs\"/\"lora_sao\"\n",
        "                out_dir.mkdir(parents=True, exist_ok=True)\n",
        "                sf.write(out_dir/f\"val_step{global_step}.wav\", wavs[0].T.float().cpu().numpy(), SR_MODEL)\n",
        "                accelerator.print(f\"Saved sample to {out_dir}\")\n",
        "            except Exception as e:\n",
        "                accelerator.print(\"Validation generation failed (continuing):\", e)\n",
        "            transformer.train()\n",
        "        if global_step >= MAX_STEPS:\n",
        "            break\n",
        "    if global_step >= MAX_STEPS:\n",
        "        break\n",
        "\n",
        "accelerator.print(\"Training complete.\")\n",
        "# Save LoRA adapter\n",
        "save_dir = Path(CIRCOR_ROOT)/\"runs\"/\"lora_sao\"/\"checkpoints\"\n",
        "save_dir.mkdir(parents=True, exist_ok=True)\n",
        "transformer.save_pretrained(save_dir)  # PEFT save\n",
        "accelerator.print(f\"Saved LoRA checkpoint to {save_dir}\")"
      ],
      "metadata": {
        "id": "i0XFiExsMoQp"
      },
      "execution_count": null,
      "outputs": []
    },
    {
      "cell_type": "code",
      "source": [
        "# Reload the base pipeline, then load PEFT adapter into the transformer's weights.\n",
        "from peft import PeftModel\n",
        "\n",
        "pipe = StableAudioPipeline.from_pretrained(MODEL_REPO, torch_dtype=torch.float16).to(\"cuda\")\n",
        "lora_dir = Path(CIRCOR_ROOT)/\"runs\"/\"lora_sao\"/\"checkpoints\"\n",
        "\n",
        "# Attach PEFT adapter to the pipeline's transformer\n",
        "pipe.transformer = PeftModel.from_pretrained(pipe.transformer, lora_dir)\n",
        "pipe.transformer.eval()\n",
        "\n",
        "prompts = [\n",
        "    \"site=MV; outcome=abnormal; murmur=present\",\n",
        "    \"site=AV; outcome=normal; murmur=absent\",\n",
        "]\n",
        "gen = pipe(\n",
        "    prompts,\n",
        "    num_inference_steps=200,\n",
        "    audio_end_in_s=6.0,\n",
        "    num_waveforms_per_prompt=1,\n",
        "    generator=torch.Generator(device=\"cuda\").manual_seed(123),\n",
        ")\n",
        "\n",
        "import soundfile as sf\n",
        "out_dir = Path(CIRCOR_ROOT)/\"runs\"/\"lora_sao\"/\"samples_final\"\n",
        "out_dir.mkdir(parents=True, exist_ok=True)\n",
        "for i, a in enumerate(gen.audios):\n",
        "    sf.write(out_dir/f\"gen_{i:02d}.wav\", a.T.float().cpu().numpy(), SR_MODEL)\n",
        "print(\"Saved generations to:\", out_dir)"
      ],
      "metadata": {
        "id": "EXjvyBGTMuA-"
      },
      "execution_count": null,
      "outputs": []
    }
  ]
}